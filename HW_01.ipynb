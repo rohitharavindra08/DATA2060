{
 "cells": [
  {
   "cell_type": "markdown",
   "metadata": {},
   "source": [
    "# **Homework 1**\n",
    "\n",
    "Due: September 17th, 5pm (late submission until September 20nd, 5pm -- no submission possible afterwards)\n",
    "\n",
    "25 points total (Problem 1: 8 points, Problem 2: 6 points, Coding Assignment: 11 points)"
   ]
  },
  {
   "cell_type": "markdown",
   "metadata": {},
   "source": [
    "### Name: Rohitha Ravindira Myla\n",
    "\n",
    "### Link to the github repo: [TODO]"
   ]
  },
  {
   "cell_type": "markdown",
   "metadata": {},
   "source": [
    "## **Written Assignment**\n",
    "\n",
    "### Introduction: Solidifying Background\n",
    "\n",
    "The purpose of this portion is to fortify your background in probability\n",
    "and statistics, linear algebra, and algorithmic analysis. The topics\n",
    "explored here will be used many times throughout this course.  \n",
    "  \n",
    "You may be able to find answers to these problems by searching the\n",
    "problem text. Please search instead for the concepts being applied; the\n",
    "goal is not to solve these specific problems, but to be comfortable with\n",
    "the principles that will be applied later in the course."
   ]
  },
  {
   "cell_type": "markdown",
   "metadata": {},
   "source": [
    "### **Problem 1: Bayes' Rule** (8 points)\n",
    "\n",
    "Bayes' Rule, or Bayes' Theorem is an oft-used identity coming from\n",
    "probability theory. If we have two events of interest, *A* and *B*, we\n",
    "might want to ask what the probability of *B* is, given that we know *A*\n",
    "happened.\n",
    "\n",
    "$$P(B|A) = \\frac{P(A|B) P(B)}{P(A)}$$\n",
    "\n",
    "Note that this is the same as\n",
    "\n",
    "$$P(B|A) = \\frac{P(A \\cap B)}{P(A)}.$$\n",
    "\n",
    "Later in this course, the parts of this formula may be relabeled:\n",
    "\n",
    "$$\\text{Posterior} = \\frac{\\text{Likelihood} * \\text{Prior}}{\\text{Evidence}}$$\n",
    "\n",
    "This rule will be explicitly used in Bayesian algorithms, but it is also a principle that will *implicitly* underlie almost all of our machine learning algorithms. This problem consists of four parts, each worth 2 points (1 point if the answer is correct and an additional point for showing correct work). As a hint, none of the four parts have the same answer.  \n",
    "\n",
    "For the purposes of this question, assume that desserts have equal probability of being a cake or ice cream and uniform probability of being any of the following 7 flavors: chocolate, vanilla, strawberry, coconut, cookies & cream, fudge, and raspberry.  \n",
    "\n",
    "1.  Suppose Steve has two desserts. What is the probability that both desserts are cakes?\n",
    "\n",
    "2.  Suppose Paul has two desserts, the first of which is ice cream. What is the probability that both desserts are ice cream?\n",
    "\n",
    "3.  Suppose Chace has two desserts and at least one is a cake. What is the probability that both desserts are cakes?\n",
    "\n",
    "4.  Suppose Andrew has two desserts and at least one is chocolate flavored ice cream. What is the probability that both desserts are ice cream?\n"
   ]
  },
  {
   "cell_type": "markdown",
   "metadata": {},
   "source": [
    "**Solution:**\n",
    "\n",
    "1. Since Steve has two desserts, and there is an equal probability of the desserts being cakes or ice creams, the probability of a dessert being a cake is 0.5.\n",
    "\n",
    "Thus, the probability that both of Steve's desserts are cakes is:\n",
    "$\n",
    "P(\\text{Both are cakes}) = P(\\text{First is cake}) \\times P(\\text{Second is cake}) = 0.5 \\times 0.5 = 0.25\n",
    "$\n",
    "\n",
    "        \n",
    "2. Since we already know the first dessert is ice cream, the probability that the second one is also ice cream is 0.5 (since the probability of the second dessert being a cake or ice cream remains equal).\n",
    "\n",
    "Thus, the probability that both of Paul’s desserts are ice cream is:\n",
    "$\n",
    "P(\\text{Both are ice cream | First is ice cream}) = 0.5\n",
    "$\n",
    "\n",
    "3. We need to use conditional probability here. The event of interest is that both desserts are cakes, given that at least one is a cake. Let’s denote:\n",
    "•⁠  ⁠A : Both desserts are cakes.\n",
    "•⁠  ⁠B: At least one dessert is a cake.\n",
    "\n",
    "We are asked to find \\( P(A | B) \\). By Bayes’ Theorem:\n",
    "$\n",
    "P(A | B) = \\frac{P(A \\cap B)}{P(B)}\n",
    "$\n",
    "\n",
    "•⁠  ⁠( P(A) = 0.25 \\) (from part 1, both are cakes).\n",
    "•⁠  ⁠( P(B) \\): Probability that at least one is a cake. The complement is the probability that both desserts are ice cream, which is ( $ 0.5 \\times 0.5 = 0.25 \\ $). So, \\( P(B) = 1 - 0.25 = 0.75 \\).\n",
    "\n",
    "\n",
    "Now, we can compute:\n",
    "$\n",
    "P(A | B) = \\frac{0.25}{0.75} = \\frac{1}{3}\n",
    "$\n",
    "\n",
    "\n",
    "4. Let’s break this into steps:\n",
    "\n",
    "- There are 7 possible flavors (including chocolate), and since there is equal probability of any flavor, the probability of a dessert being chocolate-flavored ice cream is:\n",
    "\n",
    "  $$ P(\\text{chocolate-flavored ice cream}) = \\frac{1}{7} \\times 0.5 = \\frac{1}{14} $$\n",
    "\n",
    "- The probability that at least one of Andrew's desserts is chocolate-flavored ice cream is \\( P(B) \\), and we are asked to find \\( P(A \\mid B) \\), where \\( A \\) is the event that both desserts are ice cream and \\( B \\) is the event that at least one is chocolate-flavored ice cream.\n",
    "\n",
    "Given that at least one dessert is ice cream (chocolate-flavored), we know that the probability the other dessert is also ice cream is \\( 0.5 \\), since it can either be ice cream or cake.\n",
    "\n",
    "Thus, the probability that both of Andrew’s desserts are ice cream is:\n",
    "\n",
    "$$ P(\\text{Both are ice cream} \\mid \\text{At least one is chocolate ice cream}) = 0.5 $$\n"
   ]
  },
  {
   "cell_type": "markdown",
   "metadata": {},
   "source": [
    "### **Problem 2: Linear algebra review** (6 points)\n",
    "\n",
    "1. Let A = $\\begin{bmatrix} 4 & -5 & 0 & 1 \\\\ 2 & 8 & 0 & 0 \\\\ -1 & 5 & 3 & 2 \\end{bmatrix}$ and B = $\\begin{bmatrix} 3 & -1 & 2 \\\\ 4 & 2 & 0 \\end{bmatrix}$. Calculate the products AB, A<sup>T</sup>B, BA and B<sup>T</sup>A! Solve this problem in markdown without code.\n",
    "\n",
    "2. Describe what a determinant is, why it is important, and how to calculate it for a 3$\\times$3 matrix!\n",
    "\n",
    "3. Let $A = \\in\\mathbb{R}^{n,n}$ be a matrix. A nonzero vector $u$ is an eigenvector of $A$ with a corresponding eigenvalue $\\lambda$ if $Au = \\lambda u$. We call the eigenvector together with its eigenvalue an eigenpair. Find matrix $A$ with eigenpairs ([1,0],2) and ([1,1],3). Solve this problem in markdown without code."
   ]
  },
  {
   "cell_type": "markdown",
   "metadata": {},
   "source": [
    "**Solution:**\n",
    "\n",
    "## 1: Matrix Products\n",
    "\n",
    "Given matrices \\( A \\) and \\( B \\):\n",
    "\n",
    "$$\n",
    "A = \\begin{bmatrix}\n",
    "4 & -5 & 0 & 1 \\\\\n",
    "2 & 8 & 0 & 0 \\\\\n",
    "-1 & 5 & 3 & 2\n",
    "\\end{bmatrix}\n",
    "$$\n",
    "\n",
    "$$\n",
    "B = \\begin{bmatrix}\n",
    "3 & -1 & 2 \\\\\n",
    "4 & 2 & 0\n",
    "\\end{bmatrix}\n",
    "$$\n",
    "\n",
    "1. **Product \\( AB \\):**\n",
    "   - To calculate \\( AB \\), the number of columns in \\( A \\) must match the number of rows in \\( B \\). Since \\( A \\) is a \\( 3 \\times 4 \\) matrix and \\( B \\) is a \\( 2 \\times 3 \\) matrix, the product \\( AB \\) is not defined because their dimensions do not align.\n",
    "\n",
    "2. **Product \\( A^T B \\):**\n",
    "   - The transpose of \\( A \\), denoted \\( A^T \\), would be a \\( 4 \\times 3 \\) matrix. Multiplying this with \\( B \\), a \\( 2 \\times 3 \\) matrix, would also not result in a valid matrix product, as the dimensions do not allow the operation.\n",
    "\n",
    "3. **Product \\( BA \\):**\n",
    "   - Since \\( B \\) is a \\( 2 \\times 3 \\) matrix and \\( A \\) is a \\( 3 \\times 4 \\) matrix, the product \\( BA \\) is valid and will result in a \\( 2 \\times 4 \\) matrix.\n",
    "\n",
    "$$\n",
    "BA = \\begin{bmatrix}\n",
    "3 & -1 & 2 \\\\\n",
    "4 & 2 & 0\n",
    "\\end{bmatrix}\n",
    "\\times\n",
    "\\begin{bmatrix}\n",
    "4 & -5 & 0 & 1 \\\\\n",
    "2 & 8 & 0 & 0 \\\\\n",
    "-1 & 5 & 3 & 2\n",
    "\\end{bmatrix}\n",
    "$$\n",
    "\n",
    "$$\n",
    "BA = \\begin{bmatrix}\n",
    "(3 \\times 4 + -1 \\times 2 + 2 \\times -1) & (3 \\times -5 + -1 \\times 8 + 2 \\times 5) & (3 \\times 0 + -1 \\times 0 + 2 \\times 3) & (3 \\times 1 + -1 \\times 0 + 2 \\times 2) \\\\\n",
    "(4 \\times 4 + 2 \\times 2 + 0 \\times -1) & (4 \\times -5 + 2 \\times 8 + 0 \\times 5) & (4 \\times 0 + 2 \\times 0 + 0 \\times 3) & (4 \\times 1 + 2 \\times 0 + 0 \\times 2)\n",
    "\\end{bmatrix}\n",
    "$$\n",
    "\n",
    "$$\n",
    "BA = \\begin{bmatrix}\n",
    "(12 - 2 - 2) & (-15 - 8 + 10) & (0 + 0 + 6) & (3 + 0 + 4) \\\\\n",
    "(16 + 4 + 0) & (-20 + 16 + 0) & (0 + 0 + 0) & (4 + 0 + 0)\n",
    "\\end{bmatrix}\n",
    "$$\n",
    "\n",
    "$$\n",
    "BA = \\begin{bmatrix}\n",
    "8 & -13 & 6 & 7 \\\\\n",
    "20 & -4 & 0 & 4\n",
    "\\end{bmatrix}\n",
    "$$\n",
    "\n",
    "4. **Product \\( B A^T \\):**\n",
    "   - Since \\( A^T \\) is a \\( 4 \\times 3 \\) matrix, the product \\( B A^T \\) would not be defined because \\( B \\) is a \\( 2 \\times 3 \\) matrix, and the number of columns in \\( B \\) does not match the number of rows in \\( A^T \\).\n",
    "\n",
    "---\n",
    "\n",
    "# 2: Determinants\n",
    "\n",
    "A **determinant** is a scalar value that is calculated from the elements of a square matrix. It provides important information about the matrix, such as whether the matrix is invertible, whether it has full rank, and whether the system of linear equations it represents has a unique solution.\n",
    "\n",
    "For a \\( 3 \\times 3 \\) matrix:\n",
    "\n",
    "$$\n",
    "A = \\begin{bmatrix}\n",
    "a & b & c \\\\\n",
    "d & e & f \\\\\n",
    "g & h & i\n",
    "\\end{bmatrix}\n",
    "$$\n",
    "\n",
    "The determinant of \\( A \\) is calculated as:\n",
    "\n",
    "$$\n",
    "\\text{det}(A) = a(ei - fh) - b(di - fg) + c(dh - eg)\n",
    "$$\n",
    "\n",
    "The determinant is crucial in linear algebra because:\n",
    "- If the determinant is **non-zero**, the matrix is invertible, and the system of equations it represents has a unique solution.\n",
    "- If the determinant is **zero**, the matrix is singular, meaning it does not have an inverse, and the system of equations may have no solution or infinitely many solutions.\n",
    "\n",
    "---\n",
    "\n",
    "# Problem 3: Eigenpairs and Eigenvalues\n",
    "\n",
    "Given that matrix \\( A \\) has eigenpairs \\( ([1, 0], 2) \\) and \\( ([1, 1], 3) \\), we want to find matrix \\( A \\).\n",
    "\n",
    "An eigenpair consists of an **eigenvector** \\( v \\) and a corresponding **eigenvalue** \\( \\lambda \\) such that:\n",
    "\n",
    "$$\n",
    "A v = \\lambda v\n",
    "$$\n",
    "\n",
    "For the first eigenpair \\( ([1, 0], 2) \\):\n",
    "\n",
    "$$\n",
    "A \\begin{bmatrix} 1 \\\\ 0 \\end{bmatrix} = 2 \\begin{bmatrix} 1 \\\\ 0 \\end{bmatrix}\n",
    "$$\n",
    "\n",
    "This means that multiplying \\( A \\) by \\( [1, 0] \\) results in \\( [2, 0] \\).\n",
    "\n",
    "For the second eigenpair \\( ([1, 1], 3) \\):\n",
    "\n",
    "$$\n",
    "A \\begin{bmatrix} 1 \\\\ 1 \\end{bmatrix} = 3 \\begin{bmatrix} 1 \\\\ 1 \\end{bmatrix}\n",
    "$$\n",
    "\n",
    "This means that multiplying \\( A \\) by \\( [1, 1] \\) results in \\( [3, 3] \\).\n",
    "\n",
    "Using these conditions, matrix \\( A \\) can be determined as:\n",
    "\n",
    "$$\n",
    "A = \\begin{bmatrix} 2 & 1 \\\\ 0 & 3 \\end{bmatrix}\n",
    "$$\n",
    "\n",
    "This satisfies both eigenpairs:\n",
    "1. $$ A \\begin{bmatrix} 1 \\\\ 0 \\end{bmatrix} = \\begin{bmatrix} 2 \\\\ 0 \\end{bmatrix} $$\n",
    "2. $$ A \\begin{bmatrix} 1 \\\\ 1 \\end{bmatrix} = \\begin{bmatrix} 3 \\\\ 3 \\end{bmatrix} $$"
   ]
  },
  {
   "cell_type": "markdown",
   "metadata": {},
   "source": [
    "## **Coding Assignment**\n",
    "\n",
    "### **Numpy and Matplotlib**\n",
    "\n",
    "#### Introduction\n",
    "\n",
    "Please follow the instructions in [this](https://docs.google.com/document/d/1kIxl2TKIdWiRBRAzwgpRR-B7O2Fx_S0mz9ILVw8ATzY/edit?usp=sharing) google doc **before** you start the coding assignment. You will be asked to create a DATA2060 conda environment. We recommend that you use conda but if you are more familiar with other package managers (like docker, homebrew, poetry), feel free to use those. However, please note that the TAs might not be able to help if you do not use conda. The most important thing is to install the packages with their versions as shown in the data2060.yml file of the [course's github repository](https://github.com/BrownDSI/DATA2060-Fall2024). **Two points will be deducted for each failed test, and you'll receive -12 points if you do not run the cell below.**\n",
    "\n",
    "The purpose of this section is to introduce you to some tools that you will find useful and/or necessary in order to complete future homeworks. By the end of this assignment, you will have used numpy to perform efficient computations, loaded standard datasets using sklearn, and used matplotlib to visualize several performance metrics you will be using this semester. This homework will also get you familiar with the hand-in process for jupyter notebooks."
   ]
  },
  {
   "cell_type": "code",
   "execution_count": 1,
   "metadata": {},
   "outputs": [
    {
     "name": "stdout",
     "output_type": "stream",
     "text": [
      "\u001b[42m[ OK ]\u001b[0m Python version is 3.12.5\n",
      "\n",
      "\u001b[42m[ OK ]\u001b[0m matplotlib version 3.9.1 is installed.\n",
      "\u001b[42m[ OK ]\u001b[0m numpy version 2.0.1 is installed.\n",
      "\u001b[42m[ OK ]\u001b[0m sklearn version 1.5.1 is installed.\n",
      "\u001b[42m[ OK ]\u001b[0m pandas version 2.2.2 is installed.\n",
      "\u001b[42m[ OK ]\u001b[0m pytest version 8.3.2 is installed.\n"
     ]
    }
   ],
   "source": [
    "from __future__ import print_function\n",
    "from packaging.version import parse as Version\n",
    "from platform import python_version\n",
    "\n",
    "OK = '\\x1b[42m[ OK ]\\x1b[0m'\n",
    "FAIL = \"\\x1b[41m[FAIL]\\x1b[0m\"\n",
    "\n",
    "try:\n",
    "    import importlib\n",
    "except ImportError:\n",
    "    print(FAIL, \"Python version 3.12.5 is required,\"\n",
    "                \" but %s is installed.\" % sys.version)\n",
    "\n",
    "def import_version(pkg, min_ver, fail_msg=\"\"):\n",
    "    mod = None\n",
    "    try:\n",
    "        mod = importlib.import_module(pkg)\n",
    "        if pkg in {'PIL'}:\n",
    "            ver = mod.VERSION\n",
    "        else:\n",
    "            ver = mod.__version__\n",
    "        if Version(ver) == Version(min_ver):\n",
    "            print(OK, \"%s version %s is installed.\"\n",
    "                  % (lib, min_ver))\n",
    "        else:\n",
    "            print(FAIL, \"%s version %s is required, but %s installed.\"\n",
    "                  % (lib, min_ver, ver))    \n",
    "    except ImportError:\n",
    "        print(FAIL, '%s not installed. %s' % (pkg, fail_msg))\n",
    "    return mod\n",
    "\n",
    "\n",
    "# first check the python version\n",
    "pyversion = Version(python_version())\n",
    "\n",
    "if pyversion >= Version(\"3.12.5\"):\n",
    "    print(OK, \"Python version is %s\" % pyversion)\n",
    "elif pyversion < Version(\"3.12.5\"):\n",
    "    print(FAIL, \"Python version 3.12.5 is required,\"\n",
    "                \" but %s is installed.\" % pyversion)\n",
    "else:\n",
    "    print(FAIL, \"Unknown Python version: %s\" % pyversion)\n",
    "\n",
    "    \n",
    "print()\n",
    "requirements = {'matplotlib': \"3.9.1\", 'numpy': \"2.0.1\",'sklearn': \"1.5.1\", \n",
    "                'pandas': \"2.2.2\", 'pytest': \"8.3.2\"}\n",
    "\n",
    "# now the dependencies\n",
    "for lib, required_version in list(requirements.items()):\n",
    "    import_version(lib, required_version)"
   ]
  },
  {
   "cell_type": "code",
   "execution_count": 2,
   "metadata": {},
   "outputs": [],
   "source": [
    "# import packages here\n",
    "import numpy as np  # Used to perform efficient (and convenient) array and matrix operations.\n",
    "from sklearn import datasets  # Used to load standard datasets.\n",
    "from matplotlib import pyplot as plt  # Used to create plots.\n",
    "import math  # Used for trigonometric functions, log, pow, etc."
   ]
  },
  {
   "cell_type": "markdown",
   "metadata": {},
   "source": [
    "#### Part 1: Matplotlib (4 points)\n",
    "\n",
    "This question contains functions you need to fill out, `graph_iris_data` and `graph_series_data`. Note that the `plt.show()` call should be the last call, so add all of your graph customization below the TODO, but above the `show()` call!\n",
    "\n",
    "1.  call `plt.scatter(x, y, c=None)`, giving it the following arguments:\n",
    "\n",
    "    -  the `x` argument will be `xs`\n",
    "\n",
    "    -  the `y` argument will be `ys`\n",
    "\n",
    "    -  in order to give the plotted points color, we will specify the optional c argument. Thus, we will pass a third argument, `c = iris.target`\n",
    "\n",
    "2.  Look into the matplotlib.pyplot documentation and learn how to add titles and axis labels to plots. Add a title to the plot of the form \"Made by: \\[your name\\]\".\n",
    "\n",
    "3.  Examine the column names of the iris data to find appropriate x and y labels for the plot, and use pyplot commands to label the axes of the two iris plots."
   ]
  },
  {
   "cell_type": "code",
   "execution_count": 3,
   "metadata": {},
   "outputs": [
    {
     "data": {
      "image/png": "[encoded data removed]",
      "text/plain": [
       "<Figure size 640x480 with 1 Axes>"
      ]
     },
     "metadata": {},
     "output_type": "display_data"
    }
   ],
   "source": [
    "# load the data\n",
    "iris = datasets.load_iris()\n",
    "data = iris.data\n",
    "xs = data[:, 0]\n",
    "ys = data[:, 1]\n",
    "\n",
    "# [TODO] plot iris data here\n",
    "plt.scatter(xs, ys, c=iris.target)\n",
    "plt.show()"
   ]
  },
  {
   "cell_type": "markdown",
   "metadata": {},
   "source": [
    "We will use a similar process for `graph_series_data`.\n",
    "\n",
    "1.  call `plt.plot(x, y, format)`, giving it the following arguments:\n",
    "\n",
    "    -  the `x` argument will be `xs`\n",
    "\n",
    "    -  the `y` argument will be `y1s`\n",
    "\n",
    "    -  the `format` argument will be `'.r'`\n",
    "\n",
    "2.  call `plt.plot(x, y, format)` again, giving it the following\n",
    "    arguments:\n",
    "\n",
    "    -  the `x` argument will be `xs`\n",
    "\n",
    "    -  the `y` argument will be `y2s`\n",
    "\n",
    "    -  the `format` argument will be `'-b'`\n",
    "\n",
    "3.  Add a title to the plot of the form \"Made by: \\[your name\\]\".\n",
    "\n",
    "4.  Use pyplot commands to add a legend to the series data plot, where each series is labeled with its function. Look [<u>here</u>](https://matplotlib.org/users/legend_guide.html) to start!"
   ]
  },
  {
   "cell_type": "code",
   "execution_count": 24,
   "metadata": {},
   "outputs": [
    {
     "data": {
      "text/plain": [
       "Text(0.5, 1.0, 'Made by: Rohitha Ravindra Myla')"
      ]
     },
     "execution_count": 24,
     "metadata": {},
     "output_type": "execute_result"
    },
    {
     "data": {
      "image/png": "[encoded data removed]",
      "text/plain": [
       "<Figure size 640x480 with 1 Axes>"
      ]
     },
     "metadata": {},
     "output_type": "display_data"
    }
   ],
   "source": [
    "xs = np.arange(100) * .5 - 10  # Creates a list of 100 values in intervals of .5, starting at -10.\n",
    "# Numpy makes it very easy (and efficient) to do elementwise operations on large datasets.\n",
    "y1s = [x*x for x in xs]  # If you are unfamiliar, this is called Python's \"List Comprehension Syntax\"\n",
    "y2s = [math.sin(x)*x*x for x in xs]\n",
    "\n",
    "# https://matplotlib.org/users/pyplot_tutorial.html is a good starting point for more info.\n",
    "# [TODO] plot series data here\n",
    "plt.plot(xs, y1s, '.r')\n",
    "plt.plot(xs, y2s, '-b')\n",
    "plt.title('Made by: Rohitha Ravindra Myla')"
   ]
  },
  {
   "cell_type": "markdown",
   "metadata": {},
   "source": [
    "#### Part 2: Numpy (7 points)\n",
    "\n",
    "Answer the following questions using numpy functions. Note that when importing numpy, it is often abbreviated to np (i.e., `import numpy as np`), so when calling numpy functions, you can use np.\\[function\\]. Further, note that you may NOT use the np array constructor to solve these questions (i.e., `np.array(...)`). Some functions you may want to consider to approach this problem are `np.arange`, `np.zeros`, `np.ones`, `np.eye`, `np.sum`, `np.hstack`, `np.vstack`, `np.transpose`, `np.matmul`, `np.inner`, `np.where` and `np.dot`.\n",
    "\n",
    "-  Using numpy, how would you create a 1D array containing the values 2\n",
    "    through 6 inclusive?"
   ]
  },
  {
   "cell_type": "code",
   "execution_count": 7,
   "metadata": {},
   "outputs": [
    {
     "data": {
      "text/plain": [
       "array([2, 3, 4, 5, 6])"
      ]
     },
     "execution_count": 7,
     "metadata": {},
     "output_type": "execute_result"
    }
   ],
   "source": [
    "# Solution: \n",
    "arr = np.arange(2,7)\n",
    "arr"
   ]
  },
  {
   "cell_type": "markdown",
   "metadata": {},
   "source": [
    "-  Using numpy, how would you create a 4x4 matrix where all the values\n",
    "    are 1?"
   ]
  },
  {
   "cell_type": "code",
   "execution_count": 9,
   "metadata": {},
   "outputs": [
    {
     "data": {
      "text/plain": [
       "array([[1., 1., 1., 1.],\n",
       "       [1., 1., 1., 1.],\n",
       "       [1., 1., 1., 1.],\n",
       "       [1., 1., 1., 1.]])"
      ]
     },
     "execution_count": 9,
     "metadata": {},
     "output_type": "execute_result"
    }
   ],
   "source": [
    "# Solution:\n",
    "mat4x4 = np.ones((4,4))\n",
    "mat4x4"
   ]
  },
  {
   "cell_type": "markdown",
   "metadata": {},
   "source": [
    "-  Using numpy, how would you create a 6x6 identity matrix?"
   ]
  },
  {
   "cell_type": "code",
   "execution_count": 14,
   "metadata": {},
   "outputs": [
    {
     "data": {
      "text/plain": [
       "array([[1., 0., 0., 0., 0., 0.],\n",
       "       [0., 1., 0., 0., 0., 0.],\n",
       "       [0., 0., 1., 0., 0., 0.],\n",
       "       [0., 0., 0., 1., 0., 0.],\n",
       "       [0., 0., 0., 0., 1., 0.],\n",
       "       [0., 0., 0., 0., 0., 1.]])"
      ]
     },
     "execution_count": 14,
     "metadata": {},
     "output_type": "execute_result"
    }
   ],
   "source": [
    "# Solution:\n",
    "iden = np.identity(6)\n",
    "iden\n",
    "        "
   ]
  },
  {
   "cell_type": "markdown",
   "metadata": {},
   "source": [
    "-  Using numpy, how would you sum the values of each column of matrix\n",
    "    A?"
   ]
  },
  {
   "cell_type": "code",
   "execution_count": 16,
   "metadata": {},
   "outputs": [
    {
     "data": {
      "text/plain": [
       "array([6., 6., 6., 6., 6., 6.])"
      ]
     },
     "execution_count": 16,
     "metadata": {},
     "output_type": "execute_result"
    }
   ],
   "source": [
    "# Solution: \n",
    "A = np.ones((6,6))\n",
    "np.sum(A, axis=0)"
   ]
  },
  {
   "cell_type": "markdown",
   "metadata": {},
   "source": [
    "-  Using numpy, given the matrices `A` and `B`, how would you find the\n",
    "    matrix `C`, where `C` = `A`<sup>*T*</sup>`B`?"
   ]
  },
  {
   "cell_type": "code",
   "execution_count": 17,
   "metadata": {},
   "outputs": [
    {
     "data": {
      "text/plain": [
       "array([[1., 1., 1., 1., 1., 1.],\n",
       "       [1., 1., 1., 1., 1., 1.],\n",
       "       [1., 1., 1., 1., 1., 1.],\n",
       "       [1., 1., 1., 1., 1., 1.],\n",
       "       [1., 1., 1., 1., 1., 1.],\n",
       "       [1., 1., 1., 1., 1., 1.]])"
      ]
     },
     "execution_count": 17,
     "metadata": {},
     "output_type": "execute_result"
    }
   ],
   "source": [
    "# Solution:\n",
    "A = np.identity(6)\n",
    "B = np.ones((6,6))\n",
    "res = np.matmul(np.transpose(A), B)\n",
    "res"
   ]
  },
  {
   "cell_type": "markdown",
   "metadata": {},
   "source": [
    "-  Using numpy, using either np.vstack or np.hstack, how would you\n",
    "    create a 4x2 matrix where all the values in the first column are 0’s\n",
    "    and all the values in the second column are 1’s?"
   ]
  },
  {
   "cell_type": "code",
   "execution_count": 20,
   "metadata": {},
   "outputs": [
    {
     "data": {
      "text/plain": [
       "array([[0., 1.],\n",
       "       [0., 1.],\n",
       "       [0., 1.],\n",
       "       [0., 1.]])"
      ]
     },
     "execution_count": 20,
     "metadata": {},
     "output_type": "execute_result"
    }
   ],
   "source": [
    "# Solution: np.hstack(np.)\n",
    "mat_1 = np.zeros((4,1))\n",
    "mat_2  = np.ones((4,1))\n",
    "\n",
    "res = np.hstack((mat_1, mat_2))\n",
    "res"
   ]
  },
  {
   "cell_type": "markdown",
   "metadata": {},
   "source": [
    "-  Given a matrix of floats A, using numpy, how would you return an\n",
    "    array of the same shape, where all values \\> 3.0 are set to 1, and\n",
    "    the rest to 0?"
   ]
  },
  {
   "cell_type": "code",
   "execution_count": 23,
   "metadata": {},
   "outputs": [
    {
     "data": {
      "text/plain": [
       "array([[0, 1],\n",
       "       [1, 0],\n",
       "       [1, 1]])"
      ]
     },
     "execution_count": 23,
     "metadata": {},
     "output_type": "execute_result"
    }
   ],
   "source": [
    "# Solution:\n",
    "A = np.matrix([[2.5, 3.5], [4,2], [5.5, 6.3]])\n",
    "\n",
    "np.where(A>3.0, 1, 0)"
   ]
  }
 ],
 "metadata": {
  "kernelspec": {
   "display_name": "Python 3 (ipykernel)",
   "language": "python",
   "name": "python3"
  },
  "language_info": {
   "codemirror_mode": {
    "name": "ipython",
    "version": 3
   },
   "file_extension": ".py",
   "mimetype": "text/x-python",
   "name": "python",
   "nbconvert_exporter": "python",
   "pygments_lexer": "ipython3",
   "version": "3.12.5"
  },
  "vscode": {
   "interpreter": {
    "hash": "bcd9bc17ffadb8b3c09124f861805f4f094648af93180b87f0218364b7d0c0de"
   }
  }
 },
 "nbformat": 4,
 "nbformat_minor": 4
}
